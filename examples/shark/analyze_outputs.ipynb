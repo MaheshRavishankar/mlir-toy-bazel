{
 "cells": [
  {
   "cell_type": "code",
   "execution_count": 1,
   "id": "e7161cf0",
   "metadata": {},
   "outputs": [],
   "source": [
    "import json\n",
    "import numpy as np"
   ]
  },
  {
   "cell_type": "code",
   "execution_count": 2,
   "id": "c0e1e924",
   "metadata": {},
   "outputs": [],
   "source": [
    "with open('/tmp/huggingface.json') as file:\n",
    "    raw_hf = json.load(file)\n",
    "with open('/tmp/shark.json') as file:\n",
    "    raw_shark = json.load(file)"
   ]
  },
  {
   "cell_type": "code",
   "execution_count": 3,
   "id": "edbc7980",
   "metadata": {},
   "outputs": [],
   "source": [
    "def get_dim(lst):\n",
    "    dim = []\n",
    "    while isinstance(lst, list):\n",
    "        dim.append(len(lst))\n",
    "        lst = lst[0]\n",
    "    return dim"
   ]
  },
  {
   "cell_type": "code",
   "execution_count": 4,
   "id": "ce39b65a",
   "metadata": {},
   "outputs": [],
   "source": [
    "prompt_id = 3\n",
    "first_h = raw_hf[prompt_id][1]\n",
    "first_s = raw_shark[prompt_id][1]"
   ]
  },
  {
   "cell_type": "code",
   "execution_count": 5,
   "id": "e61163be",
   "metadata": {},
   "outputs": [
    {
     "data": {
      "text/plain": [
       "[1, 8, 50272]"
      ]
     },
     "execution_count": 5,
     "metadata": {},
     "output_type": "execute_result"
    }
   ],
   "source": [
    "get_dim(first_h)"
   ]
  },
  {
   "cell_type": "code",
   "execution_count": 6,
   "id": "65d0519c",
   "metadata": {},
   "outputs": [
    {
     "data": {
      "text/plain": [
       "[2, 30, 50272]"
      ]
     },
     "execution_count": 6,
     "metadata": {},
     "output_type": "execute_result"
    }
   ],
   "source": [
    "get_dim(first_s)"
   ]
  },
  {
   "cell_type": "code",
   "execution_count": 7,
   "id": "9447b147",
   "metadata": {},
   "outputs": [
    {
     "name": "stdout",
     "output_type": "stream",
     "text": [
      "Prompt: What is the meaning of life?\n",
      "\t@0, max_diff=1.239776611328125e-05\n",
      "\t@1, max_diff=2.384185791015625e-05\n",
      "\t@2, max_diff=7.104873657226562e-05\n",
      "\t@3, max_diff=3.457069396972656e-05\n",
      "\t@4, max_diff=8.344650268554688e-05\n",
      "\t@5, max_diff=9.298324584960938e-05\n",
      "\t@6, max_diff=4.220008850097656e-05\n",
      "\t@7, max_diff=4.6581029891967773e-05\n",
      "Prompt: Tell me something you don't know.\n",
      "\t@0, max_diff=1.239776611328125e-05\n",
      "\t@1, max_diff=2.384185791015625e-05\n",
      "\t@2, max_diff=7.104873657226562e-05\n",
      "\t@3, max_diff=3.457069396972656e-05\n",
      "\t@4, max_diff=8.344650268554688e-05\n",
      "\t@5, max_diff=9.298324584960938e-05\n",
      "\t@6, max_diff=4.220008850097656e-05\n",
      "\t@7, max_diff=4.6581029891967773e-05\n",
      "Prompt: What does Xilinx do?\n",
      "\t@0, max_diff=1.239776611328125e-05\n",
      "\t@1, max_diff=2.384185791015625e-05\n",
      "\t@2, max_diff=7.104873657226562e-05\n",
      "\t@3, max_diff=3.457069396972656e-05\n",
      "\t@4, max_diff=8.344650268554688e-05\n",
      "\t@5, max_diff=9.298324584960938e-05\n",
      "\t@6, max_diff=4.220008850097656e-05\n",
      "\t@7, max_diff=4.6581029891967773e-05\n",
      "Prompt: What is the mass of earth?\n",
      "\t@0, max_diff=1.239776611328125e-05\n",
      "\t@1, max_diff=2.384185791015625e-05\n",
      "\t@2, max_diff=7.104873657226562e-05\n",
      "\t@3, max_diff=3.457069396972656e-05\n",
      "\t@4, max_diff=8.344650268554688e-05\n",
      "\t@5, max_diff=9.298324584960938e-05\n",
      "\t@6, max_diff=4.220008850097656e-05\n",
      "\t@7, max_diff=4.6581029891967773e-05\n",
      "Prompt: What is a poem?\n",
      "\t@0, max_diff=1.239776611328125e-05\n",
      "\t@1, max_diff=2.384185791015625e-05\n",
      "\t@2, max_diff=7.104873657226562e-05\n",
      "\t@3, max_diff=3.457069396972656e-05\n",
      "\t@4, max_diff=8.344650268554688e-05\n",
      "\t@5, max_diff=9.298324584960938e-05\n",
      "\t@6, max_diff=4.220008850097656e-05\n",
      "\t@7, max_diff=4.6581029891967773e-05\n",
      "Prompt: What is recursion?\n",
      "\t@0, max_diff=1.239776611328125e-05\n",
      "\t@1, max_diff=2.384185791015625e-05\n",
      "\t@2, max_diff=7.104873657226562e-05\n",
      "\t@3, max_diff=3.457069396972656e-05\n",
      "\t@4, max_diff=8.344650268554688e-05\n",
      "\t@5, max_diff=9.298324584960938e-05\n",
      "\t@6, max_diff=4.220008850097656e-05\n",
      "\t@7, max_diff=4.6581029891967773e-05\n",
      "Prompt: Tell me a one line joke.\n",
      "\t@0, max_diff=1.239776611328125e-05\n",
      "\t@1, max_diff=2.384185791015625e-05\n",
      "\t@2, max_diff=7.104873657226562e-05\n",
      "\t@3, max_diff=3.457069396972656e-05\n",
      "\t@4, max_diff=8.344650268554688e-05\n",
      "\t@5, max_diff=9.298324584960938e-05\n",
      "\t@6, max_diff=4.220008850097656e-05\n",
      "\t@7, max_diff=4.6581029891967773e-05\n",
      "Prompt: Who is Gilgamesh?\n",
      "\t@0, max_diff=1.239776611328125e-05\n",
      "\t@1, max_diff=2.384185791015625e-05\n",
      "\t@2, max_diff=7.104873657226562e-05\n",
      "\t@3, max_diff=3.457069396972656e-05\n",
      "\t@4, max_diff=8.344650268554688e-05\n",
      "\t@5, max_diff=9.298324584960938e-05\n",
      "\t@6, max_diff=4.220008850097656e-05\n",
      "\t@7, max_diff=4.6581029891967773e-05\n",
      "Prompt: Tell me something about cryptocurrency.\n",
      "\t@0, max_diff=1.239776611328125e-05\n",
      "\t@1, max_diff=2.384185791015625e-05\n",
      "\t@2, max_diff=7.104873657226562e-05\n",
      "\t@3, max_diff=3.457069396972656e-05\n",
      "\t@4, max_diff=8.344650268554688e-05\n",
      "\t@5, max_diff=9.298324584960938e-05\n",
      "\t@6, max_diff=4.220008850097656e-05\n",
      "\t@7, max_diff=4.6581029891967773e-05\n",
      "Prompt: How did it all begin?\n",
      "\t@0, max_diff=1.239776611328125e-05\n",
      "\t@1, max_diff=2.384185791015625e-05\n",
      "\t@2, max_diff=7.104873657226562e-05\n",
      "\t@3, max_diff=3.457069396972656e-05\n",
      "\t@4, max_diff=8.344650268554688e-05\n",
      "\t@5, max_diff=9.298324584960938e-05\n",
      "\t@6, max_diff=4.220008850097656e-05\n",
      "\t@7, max_diff=4.6581029891967773e-05\n"
     ]
    }
   ],
   "source": [
    "assert len(raw_hf) == len(raw_shark)\n",
    "for prompt_id in range(len(raw_hf)):\n",
    "    print('Prompt: {}'.format(raw_hf[prompt_id][0]))\n",
    "    for i in range(8):\n",
    "        s = np.array(first_s[0][i])\n",
    "        h = np.array(first_h[0][i])\n",
    "        print('\\t@{}, max_diff={}'.format(i, max(s-h)))"
   ]
  },
  {
   "cell_type": "code",
   "execution_count": null,
   "id": "5cdc68ba",
   "metadata": {},
   "outputs": [],
   "source": []
  }
 ],
 "metadata": {
  "kernelspec": {
   "display_name": "shark.venv",
   "language": "python",
   "name": "shark.venv"
  },
  "language_info": {
   "codemirror_mode": {
    "name": "ipython",
    "version": 3
   },
   "file_extension": ".py",
   "mimetype": "text/x-python",
   "name": "python",
   "nbconvert_exporter": "python",
   "pygments_lexer": "ipython3",
   "version": "3.11.0rc1"
  }
 },
 "nbformat": 4,
 "nbformat_minor": 5
}
