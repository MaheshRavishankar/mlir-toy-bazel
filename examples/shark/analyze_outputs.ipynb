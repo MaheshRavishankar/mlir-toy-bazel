{
 "cells": [
  {
   "cell_type": "code",
   "execution_count": 1,
   "id": "e7161cf0",
   "metadata": {},
   "outputs": [],
   "source": [
    "import json\n",
    "import numpy as np"
   ]
  },
  {
   "cell_type": "code",
   "execution_count": 2,
   "id": "c0e1e924",
   "metadata": {},
   "outputs": [],
   "source": [
    "with open('/tmp/huggingface.json') as file:\n",
    "    raw_hf = json.load(file)\n",
    "with open('/tmp/shark.json') as file:\n",
    "    raw_shark = json.load(file)"
   ]
  },
  {
   "cell_type": "code",
   "execution_count": 3,
   "id": "edbc7980",
   "metadata": {},
   "outputs": [],
   "source": [
    "def get_dim(lst):\n",
    "    dim = []\n",
    "    while isinstance(lst, list):\n",
    "        dim.append(len(lst))\n",
    "        lst = lst[0]\n",
    "    return dim"
   ]
  },
  {
   "cell_type": "code",
   "execution_count": 4,
   "id": "9447b147",
   "metadata": {},
   "outputs": [
    {
     "name": "stdout",
     "output_type": "stream",
     "text": [
      "Prompt: What is the meaning of life?\n",
      "\t@0, max_diff=2.384185791015625e-05\n",
      "\t@1, max_diff=2.4318695068359375e-05\n",
      "\t@2, max_diff=7.104873657226562e-05\n",
      "\t@3, max_diff=3.865361213684082e-05\n",
      "\t@4, max_diff=9.489059448242188e-05\n",
      "\t@5, max_diff=4.5299530029296875e-05\n",
      "\t@6, max_diff=0.0001392364501953125\n",
      "\t@7, max_diff=2.5272369384765625e-05\n",
      "Prompt: Tell me something you don't know.\n",
      "\t@0, max_diff=2.384185791015625e-05\n",
      "\t@1, max_diff=7.581710815429688e-05\n",
      "\t@2, max_diff=0.00010609626770019531\n",
      "\t@3, max_diff=9.489059448242188e-05\n",
      "\t@4, max_diff=5.745887756347656e-05\n",
      "\t@5, max_diff=3.135204315185547e-05\n",
      "\t@6, max_diff=0.00017559528350830078\n",
      "\t@7, max_diff=0.00015115737915039062\n",
      "\t@8, max_diff=0.00016307830810546875\n",
      "Prompt: What does Xilinx do?\n",
      "\t@0, max_diff=2.384185791015625e-05\n",
      "\t@1, max_diff=2.4318695068359375e-05\n",
      "\t@2, max_diff=3.528594970703125e-05\n",
      "\t@3, max_diff=2.574920654296875e-05\n",
      "\t@4, max_diff=5.602836608886719e-05\n",
      "\t@5, max_diff=0.00012406706809997559\n",
      "\t@6, max_diff=9.34600830078125e-05\n",
      "\t@7, max_diff=5.710124969482422e-05\n",
      "Prompt: What is the mass of earth?\n",
      "\t@0, max_diff=2.384185791015625e-05\n",
      "\t@1, max_diff=2.4318695068359375e-05\n",
      "\t@2, max_diff=7.104873657226562e-05\n",
      "\t@3, max_diff=3.865361213684082e-05\n",
      "\t@4, max_diff=8.344650268554688e-05\n",
      "\t@5, max_diff=0.00010013580322265625\n",
      "\t@6, max_diff=4.220008850097656e-05\n",
      "\t@7, max_diff=4.6581029891967773e-05\n",
      "Prompt: What is a poem?\n",
      "\t@0, max_diff=2.384185791015625e-05\n",
      "\t@1, max_diff=2.4318695068359375e-05\n",
      "\t@2, max_diff=3.7670135498046875e-05\n",
      "\t@3, max_diff=5.054473876953125e-05\n",
      "\t@4, max_diff=0.00012731552124023438\n",
      "\t@5, max_diff=5.4955482482910156e-05\n",
      "Prompt: What is recursion?\n",
      "\t@0, max_diff=2.384185791015625e-05\n",
      "\t@1, max_diff=2.4318695068359375e-05\n",
      "\t@2, max_diff=3.7670135498046875e-05\n",
      "\t@3, max_diff=2.288818359375e-05\n",
      "\t@4, max_diff=9.34600830078125e-05\n",
      "\t@5, max_diff=0.00012159347534179688\n",
      "Prompt: Tell me a one line joke.\n",
      "\t@0, max_diff=2.384185791015625e-05\n",
      "\t@1, max_diff=7.581710815429688e-05\n",
      "\t@2, max_diff=0.00010609626770019531\n",
      "\t@3, max_diff=3.5762786865234375e-05\n",
      "\t@4, max_diff=0.00015878677368164062\n",
      "\t@5, max_diff=6.771087646484375e-05\n",
      "\t@6, max_diff=7.724761962890625e-05\n",
      "\t@7, max_diff=0.00011324882507324219\n",
      "Prompt: Who is Gilgamesh?\n",
      "\t@0, max_diff=2.384185791015625e-05\n",
      "\t@1, max_diff=2.574920654296875e-05\n",
      "\t@2, max_diff=2.956390380859375e-05\n",
      "\t@3, max_diff=2.384185791015625e-05\n",
      "\t@4, max_diff=9.059906005859375e-05\n",
      "\t@5, max_diff=0.0001087188720703125\n",
      "\t@6, max_diff=0.00018525123596191406\n",
      "Prompt: Tell me something about cryptocurrency.\n",
      "\t@0, max_diff=2.384185791015625e-05\n",
      "\t@1, max_diff=7.581710815429688e-05\n",
      "\t@2, max_diff=0.00010275840759277344\n",
      "\t@3, max_diff=6.4849853515625e-05\n",
      "\t@4, max_diff=4.553794860839844e-05\n",
      "\t@5, max_diff=0.0001163482666015625\n",
      "\t@6, max_diff=5.340576171875e-05\n",
      "Prompt: How did it all begin?\n",
      "\t@0, max_diff=2.384185791015625e-05\n",
      "\t@1, max_diff=2.765655517578125e-05\n",
      "\t@2, max_diff=2.574920654296875e-05\n",
      "\t@3, max_diff=3.147125244140625e-05\n",
      "\t@4, max_diff=9.679794311523438e-05\n",
      "\t@5, max_diff=9.679794311523438e-05\n",
      "\t@6, max_diff=5.1975250244140625e-05\n",
      "Overall max_diff=0.00018525123596191406\n"
     ]
    }
   ],
   "source": [
    "assert len(raw_hf) == len(raw_shark) == 10\n",
    "max_diffs = []\n",
    "for prompt_id in range(len(raw_hf)):\n",
    "    print('Prompt: {}'.format(raw_hf[prompt_id][0]))\n",
    "    payload_len = len(raw_hf[prompt_id][1][0])\n",
    "    for i in range(payload_len):\n",
    "        h = np.array(raw_hf[prompt_id][1][0][i])\n",
    "        s = np.array(raw_shark[prompt_id][1][0][i])\n",
    "        max_diff = max(abs(s-h))\n",
    "        print('\\t@{}, max_diff={}'.format(i, max_diff))\n",
    "        max_diffs.append(max_diff)\n",
    "print('Overall max_diff={}'.format(max(max_diffs)))"
   ]
  },
  {
   "cell_type": "code",
   "execution_count": null,
   "id": "8835df9f",
   "metadata": {},
   "outputs": [],
   "source": []
  }
 ],
 "metadata": {
  "kernelspec": {
   "display_name": "Python 3 (ipykernel)",
   "language": "python",
   "name": "python3"
  },
  "language_info": {
   "codemirror_mode": {
    "name": "ipython",
    "version": 3
   },
   "file_extension": ".py",
   "mimetype": "text/x-python",
   "name": "python",
   "nbconvert_exporter": "python",
   "pygments_lexer": "ipython3",
   "version": "3.11.0rc1"
  }
 },
 "nbformat": 4,
 "nbformat_minor": 5
}
